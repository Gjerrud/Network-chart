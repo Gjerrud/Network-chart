{
 "cells": [
  {
   "cell_type": "code",
   "execution_count": 1,
   "metadata": {},
   "outputs": [],
   "source": [
    "import pydot\n",
    "# https://pypi.org/project/pydot/"
   ]
  },
  {
   "cell_type": "code",
   "execution_count": 15,
   "metadata": {},
   "outputs": [],
   "source": [
    "graph = pydot.Dot('my_graph', graph_type='graph', bgcolor='yellow')\n",
    "# Add nodes\n",
    "#my_node = pydot.Node('a', label='Foo')\n",
    "my_node = pydot.Node('a', label='<<TABLE BORDER=\"0\" CELLBORDER=\"0\" CELLSPACING=\"0\"><TR><TD><FONT COLOR=\"red\">0.19</FONT></TD></TR><TR><TD CELLPADDING=\"6\" BGCOLOR=\"goldenrod2\" PORT=\"p1\">would</TD></TR></TABLE>>')\n",
    "my_node.set('pos', '0,0!')\n",
    "graph.add_node(my_node)\n",
    "# Or, without using an intermediate variable:\n",
    "graph.add_node(pydot.Node('b', shape='circle', xlabel=2, fontname='calibri'))\n",
    "\n",
    "# Add edges\n",
    "my_edge = pydot.Edge('a', 'b', color='blue', label='perc')\n",
    "graph.add_edge(my_edge)\n",
    "# Or, without using an intermediate variable:\n",
    "graph.add_edge(pydot.Edge('b', 'c', color='blue', style='invis'))"
   ]
  },
  {
   "cell_type": "code",
   "execution_count": 16,
   "metadata": {},
   "outputs": [],
   "source": [
    "graph.add_edge(pydot.Edge('b', 'd', style='dotted'))"
   ]
  },
  {
   "cell_type": "code",
   "execution_count": 17,
   "metadata": {},
   "outputs": [],
   "source": [
    "graph.set_bgcolor('lightyellow')\n",
    "graph.get_node('b')[0].set_shape('box')"
   ]
  },
  {
   "cell_type": "code",
   "execution_count": 18,
   "metadata": {},
   "outputs": [],
   "source": [
    "#output_graphviz_svg = graph.create_svg()\n",
    "#graph.write_png('output.png')\n",
    "graph.write_dot('output.dot', prog=\"neato\")"
   ]
  },
  {
   "cell_type": "code",
   "execution_count": 6,
   "metadata": {},
   "outputs": [],
   "source": [
    "# As a bytes literal:\n",
    "#output_graphviz_dot = graph.create_dot()\n",
    "# Or, save it as a DOT-file:\n",
    "#graph.write_dot('output_graphviz.dot')"
   ]
  },
  {
   "cell_type": "code",
   "execution_count": 7,
   "metadata": {},
   "outputs": [],
   "source": [
    "# Load from DOT file\n",
    "#graphs = pydot.graph_from_dot_file('output_graphviz.dot')\n",
    "#graph = graphs[0]\n",
    "#graph.write_png('output.png')"
   ]
  },
  {
   "cell_type": "code",
   "execution_count": 8,
   "metadata": {},
   "outputs": [],
   "source": [
    "# Convert to a NetworkX graph:\n",
    "#import networkx\n",
    "#my_networkx_graph = networkx.drawing.nx_pydot.from_pydot(graph)"
   ]
  },
  {
   "cell_type": "code",
   "execution_count": null,
   "metadata": {},
   "outputs": [],
   "source": []
  }
 ],
 "metadata": {
  "kernelspec": {
   "display_name": "Python 3.7.4 ('base')",
   "language": "python",
   "name": "python3"
  },
  "language_info": {
   "codemirror_mode": {
    "name": "ipython",
    "version": 3
   },
   "file_extension": ".py",
   "mimetype": "text/x-python",
   "name": "python",
   "nbconvert_exporter": "python",
   "pygments_lexer": "ipython3",
   "version": "3.7.4"
  },
  "vscode": {
   "interpreter": {
    "hash": "136ac6390a149cc93e6470a8f7f2b930c2fa00ca17cae58650efc746ba1de66d"
   }
  }
 },
 "nbformat": 4,
 "nbformat_minor": 2
}
