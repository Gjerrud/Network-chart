{
 "cells": [
  {
   "cell_type": "code",
   "execution_count": 16,
   "metadata": {},
   "outputs": [],
   "source": [
    "import graphviz\n",
    "import csv"
   ]
  },
  {
   "cell_type": "code",
   "execution_count": 17,
   "metadata": {},
   "outputs": [],
   "source": [
    "dot = graphviz.Digraph(comment='Network-chart')"
   ]
  },
  {
   "cell_type": "code",
   "execution_count": 18,
   "metadata": {},
   "outputs": [],
   "source": [
    "file = open(\"Nodes.csv\", encoding=\"utf-8\", mode=\"r\")\n",
    "csv_reader = csv.reader(file, delimiter=\";\")\n",
    "next(csv_reader, None) # exclude header\n",
    "for row in csv_reader:\n",
    "    dot.node(row[0], row[1], style=\"filled\", fillcolor=\"lightyellow\" if row[2]==\"Person\" else \"lightblue\", shape=\"box\")"
   ]
  },
  {
   "cell_type": "code",
   "execution_count": 19,
   "metadata": {},
   "outputs": [],
   "source": [
    "file = open(\"Links.csv\", encoding=\"utf-8\", mode=\"r\")\n",
    "csv_reader = csv.reader(file, delimiter=\";\")\n",
    "next(csv_reader, None) # exclude header\n",
    "for row in csv_reader:\n",
    "    dot.edge(row[0], row[1], label=row[2])"
   ]
  },
  {
   "cell_type": "markdown",
   "metadata": {},
   "source": [
    "dot.node('a', 'A', style=\"filled\", fillcolor=\"#cccccc\", pos=\"0,0!\")\n",
    "dot.node('b', 'B', fillcolor=\"#1f77b4\", pos=\"0,1!\")\n",
    "dot.node('c', 'C', fillcolor=\"#2ca02c\", pos=\"2,1!\")\n",
    "dot.node('d', 'D', fillcolor=\"#ff7f0e\", pos=\"2,0!\")\n",
    "dot.edges(['ab', 'ac'])\n",
    "dot.edge('d', 'a', label=\"perc\")\n",
    "dot.edge('a', 'd', label=\"perc\")\n",
    "print(dot.source)\n",
    "dot.engine = \"neato\"\n",
    "dot.render('test-output/round-table.gv', view=False)  # If true then auto-open file"
   ]
  },
  {
   "cell_type": "code",
   "execution_count": 20,
   "metadata": {},
   "outputs": [
    {
     "data": {
      "text/plain": [
       "'Network-chart.gv.pdf'"
      ]
     },
     "execution_count": 20,
     "metadata": {},
     "output_type": "execute_result"
    }
   ],
   "source": [
    "dot.render('Network-chart.gv', view=False)"
   ]
  }
 ],
 "metadata": {
  "kernelspec": {
   "display_name": "Python 3.8.0 32-bit",
   "language": "python",
   "name": "python3"
  },
  "language_info": {
   "codemirror_mode": {
    "name": "ipython",
    "version": 3
   },
   "file_extension": ".py",
   "mimetype": "text/x-python",
   "name": "python",
   "nbconvert_exporter": "python",
   "pygments_lexer": "ipython3",
   "version": "3.8.0"
  },
  "vscode": {
   "interpreter": {
    "hash": "298c87bb46c0ece7abcceec7d9fcd87435e079314f0dee0953f90f5b1b40d0e0"
   }
  }
 },
 "nbformat": 4,
 "nbformat_minor": 2
}
